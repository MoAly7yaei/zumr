{
 "cells": [
  {
   "cell_type": "code",
   "execution_count": 24,
   "metadata": {},
   "outputs": [],
   "source": [
    "import pandas as pd\n",
    "import openpyxl"
   ]
  },
  {
   "cell_type": "code",
   "execution_count": 25,
   "metadata": {},
   "outputs": [
    {
     "data": {
      "text/html": [
       "<div>\n",
       "<style scoped>\n",
       "    .dataframe tbody tr th:only-of-type {\n",
       "        vertical-align: middle;\n",
       "    }\n",
       "\n",
       "    .dataframe tbody tr th {\n",
       "        vertical-align: top;\n",
       "    }\n",
       "\n",
       "    .dataframe thead th {\n",
       "        text-align: right;\n",
       "    }\n",
       "</style>\n",
       "<table border=\"1\" class=\"dataframe\">\n",
       "  <thead>\n",
       "    <tr style=\"text-align: right;\">\n",
       "      <th></th>\n",
       "      <th>len</th>\n",
       "      <th>wid</th>\n",
       "      <th>space</th>\n",
       "      <th>ratio</th>\n",
       "    </tr>\n",
       "  </thead>\n",
       "  <tbody>\n",
       "    <tr>\n",
       "      <th>0</th>\n",
       "      <td>128</td>\n",
       "      <td>72</td>\n",
       "      <td>9216</td>\n",
       "      <td>0.562500</td>\n",
       "    </tr>\n",
       "    <tr>\n",
       "      <th>1</th>\n",
       "      <td>1080</td>\n",
       "      <td>1920</td>\n",
       "      <td>2073600</td>\n",
       "      <td>1.777778</td>\n",
       "    </tr>\n",
       "  </tbody>\n",
       "</table>\n",
       "</div>"
      ],
      "text/plain": [
       "    len   wid    space     ratio\n",
       "0   128    72     9216  0.562500\n",
       "1  1080  1920  2073600  1.777778"
      ]
     },
     "execution_count": 25,
     "metadata": {},
     "output_type": "execute_result"
    }
   ],
   "source": [
    "data = pd.read_excel('data.xlsx')\n",
    "data"
   ]
  },
  {
   "cell_type": "code",
   "execution_count": 34,
   "metadata": {},
   "outputs": [],
   "source": [
    "def readexcel(file_name):\n",
    "    workbook = openpyxl.load_workbook(file_name, data_only=False)\n",
    "    sheet = workbook.active\n",
    "\n",
    "  \n",
    "    header = []\n",
    "    for cell in sheet[1]:\n",
    "        header.append(cell.value)\n",
    "\n",
    "\n",
    "    values_list = []\n",
    "    formulas_list = []\n",
    "\n",
    "    for row in sheet.iter_rows(min_row=2):  \n",
    "        value_row = []\n",
    "        formula_row = []\n",
    "\n",
    "\n",
    "        for cell in row:\n",
    "            value = cell.value\n",
    "            formula = None\n",
    "\n",
    "            if isinstance(value, str) and value.startswith('='):\n",
    "                formula = value\n",
    "            value_row.append(value)\n",
    "            formula_row.append(formula)\n",
    "        \n",
    "        value_dict = {}\n",
    "        formula_dict = {}\n",
    "        for i in range(len(header)):\n",
    "            value_dict[header[i]] = value_row[i]\n",
    "            formula_dict[header[i]] = formula_row[i]\n",
    "\n",
    "        values_list.append(value_dict)\n",
    "        formulas_list.append(formula_dict)\n",
    "\n",
    "    result_dict = {\n",
    "        'Excel sheet': values_list,\n",
    "    }\n",
    "\n",
    "    return result_dict"
   ]
  },
  {
   "cell_type": "code",
   "execution_count": 33,
   "metadata": {},
   "outputs": [
    {
     "data": {
      "text/plain": [
       "{'Excel sheet': [{'len': 128, 'wid': 72, 'space': '=B2*A2', 'ratio': '=B2/A2'},\n",
       "  {'len': 1080, 'wid': 1920, 'space': '=B3*A3', 'ratio': '=B3/A3'}]}"
      ]
     },
     "execution_count": 33,
     "metadata": {},
     "output_type": "execute_result"
    }
   ],
   "source": [
    "dic = readexcel('data.xlsx')\n",
    "dic"
   ]
  },
  {
   "cell_type": "code",
   "execution_count": null,
   "metadata": {},
   "outputs": [],
   "source": []
  }
 ],
 "metadata": {
  "kernelspec": {
   "display_name": "base",
   "language": "python",
   "name": "python3"
  },
  "language_info": {
   "codemirror_mode": {
    "name": "ipython",
    "version": 3
   },
   "file_extension": ".py",
   "mimetype": "text/x-python",
   "name": "python",
   "nbconvert_exporter": "python",
   "pygments_lexer": "ipython3",
   "version": "3.10.9"
  },
  "orig_nbformat": 4
 },
 "nbformat": 4,
 "nbformat_minor": 2
}
